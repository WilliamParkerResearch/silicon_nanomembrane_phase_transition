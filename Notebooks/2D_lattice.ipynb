{
 "cells": [
  {
   "cell_type": "markdown",
   "source": [
    "# Si (001) Surface\n",
    "## 2D Lattice Vectors\n",
    "\\begin{align*}\n",
    "\\vec{a}_1 &= a \\hat{e}_1\\\\\n",
    "\\vec{a}_2 &= a \\hat{e}_2\\\\\n",
    "\\end{align*}\n",
    "\n",
    "## Atomic Positions\n",
    "\\begin{align*}\n",
    "\\vec{R}_1 &= \\frac{1}{4} \\vec{a}_1 + \\frac{3}{4} \\vec{a}_2\\\\\n",
    "\\vec{R}_2 &= \\frac{3}{4} \\vec{a}_1 + \\frac{1}{4} \\vec{a}_2\\\\\n",
    "\\end{align*}\n"
   ],
   "metadata": {
    "collapsed": false,
    "pycharm": {
     "name": "#%% md\n"
    }
   }
  },
  {
   "cell_type": "code",
   "execution_count": 28,
   "metadata": {
    "collapsed": true
   },
   "outputs": [
    {
     "data": {
      "text/plain": "<Figure size 432x288 with 1 Axes>",
      "image/png": "[encoded data removed]"
     },
     "metadata": {
      "needs_background": "light"
     },
     "output_type": "display_data"
    }
   ],
   "source": [
    "import matplotlib.pyplot as plt\n",
    "import numpy as np\n",
    "\n",
    "# Unit cell basis vectors square lattice\n",
    "lattice_parameter = 5.431  # 10^-10 m\n",
    "a1 = lattice_parameter * np.array([1.0, 0.0])  # a1 = a (1, 0)\n",
    "a2 = lattice_parameter * np.array([0.0, 1.0])  # a2 = a (0, 1)\n",
    "\n",
    "# Outline unit cell\n",
    "unit_cell = plt.Rectangle((0,0), lattice_parameter, lattice_parameter,\n",
    "                          fc='none', ec='black')\n",
    "plt.gca().add_patch(unit_cell)\n",
    "\n",
    "# Draw lattice vectors\n",
    "whitespace_factor = 0.5\n",
    "lattice_vector_width = 0.5\n",
    "a1_arrow = plt.Arrow(0., -0.5*whitespace_factor*lattice_parameter, a1[0], a1[1],\n",
    "                     color='black', width=lattice_vector_width)\n",
    "a2_arrow = plt.Arrow(-0.5*whitespace_factor*lattice_parameter, 0., a2[0], a2[1],\n",
    "                     color='black', width=lattice_vector_width)\n",
    "plt.gca().add_patch(a1_arrow)\n",
    "plt.gca().add_patch(a2_arrow)\n",
    "\n",
    "# Label lattice vectors\n",
    "plt.text(a1[0], -0.5*whitespace_factor*lattice_parameter,\n",
    "         r' $\\vec{a}_1$', va='center')\n",
    "plt.text(-0.5*whitespace_factor*lattice_parameter, a2[1],\n",
    "         r' $\\vec{a}_2$', ha='center')\n",
    "\n",
    "# Set limits to whitespace_factor beyond unit cell\n",
    "plt.axis('square')\n",
    "plt.xlim([-whitespace_factor * a1[0], (1. + whitespace_factor) * a1[0]])\n",
    "plt.ylim([-whitespace_factor * a2[1], (1. + whitespace_factor) * a2[1]])\n",
    "\n",
    "# Atomic positions in unit cell\n",
    "R1 = 0.25*a1 + 0.75*a2\n",
    "R2 = 0.75*a1 + 0.25*a2\n",
    "atomic_positions = np.array([R1, R2])\n",
    "# Plot atoms as circles\n",
    "#   https://en.wikipedia.org/wiki/Atomic_radii_of_the_elements_(data_page)\n",
    "atomic_radius = 1.1  # angstrom  for Si\n",
    "atomic_radius = 0.5*atomic_radius  # reduce for aesthetics\n",
    "for atom_position in atomic_positions:\n",
    "    atom = plt.Circle((atom_position[0], atom_position[1]),\n",
    "                      atomic_radius)\n",
    "    plt.gca().add_patch(atom)\n",
    "\n",
    "# Show plot\n",
    "plt.show()"
   ]
  },
  {
   "cell_type": "markdown",
   "source": [
    "# Reciprocal Lattice\n",
    "\\begin{align*}\n",
    "\\vec{b}_1 &= 2 \\pi \\frac{\\vec{a}_2 \\times \\left( \\vec{a}_1 \\times \\vec{a}_2\\right)}\n",
    "                  {\\left| \\vec{a}_1 \\times \\vec{a}_2 \\right|^2} \\\\\n",
    "          &= 2 \\pi \\frac{a \\hat{e}_2 \\times (a^2 \\hat{e}_3)}{a^4} \\\\\n",
    "          &= \\frac{2 \\pi}{a} \\hat{e}_1\n",
    "\\end{align*}\n",
    "\n",
    "\\begin{align*}\n",
    "\\vec{b}_2 &= 2 \\pi \\frac{\\vec{a}_1 \\times \\left( \\vec{a}_2 \\times \\vec{a}_1\\right)}\n",
    "                  {\\left| \\vec{a}_1 \\times \\vec{a}_2 \\right|^2} \\\\\n",
    "          &= 2 \\pi \\frac{a \\hat{e}_1 \\times (-a^2 \\hat{e}_3)}{a^4} \\\\\n",
    "          &= \\frac{2 \\pi}{a} \\hat{e}_2\n",
    "\\end{align*}\n",
    "\n",
    "# First Brillouin Zone"
   ],
   "metadata": {
    "collapsed": false
   }
  },
  {
   "cell_type": "code",
   "execution_count": 4,
   "outputs": [
    {
     "data": {
      "text/plain": "<Figure size 432x288 with 1 Axes>",
      "image/png": "[encoded data removed]"
     },
     "metadata": {
      "needs_background": "light"
     },
     "output_type": "display_data"
    }
   ],
   "source": [
    "import matplotlib.pyplot as plt\n",
    "import numpy as np\n",
    "\n",
    "# Reciprocal unit cell basis vectors square lattice\n",
    "lattice_parameter = 5.431\n",
    "reciprocal_lattice_parameter = 2 * np.pi / lattice_parameter\n",
    "b1 = reciprocal_lattice_parameter * np.array([1., 0.])\n",
    "b2 = reciprocal_lattice_parameter * np.array([0., 1.])\n",
    "\n",
    "# Outline reciprocal cell\n",
    "reciprocal_cell_vertices = np.array([[0., 0.],\n",
    "                                     b1,\n",
    "                                     b1 + b2,\n",
    "                                     b2])\n",
    "\n",
    "reciprocal_cell = plt.Polygon(reciprocal_cell_vertices,\n",
    "                              fc='none', ec='black')\n",
    "plt.gca().add_patch(reciprocal_cell)\n",
    "\n",
    "# Outline Brillouin zone\n",
    "brillouin_zone_vertices = np.array([0.5*(-b1 - b2),\n",
    "                                    0.5*( b1 - b2),\n",
    "                                    0.5*( b1 + b2),\n",
    "                                    0.5*(-b1 + b2)])\n",
    "\n",
    "brillouin_zone = plt.Polygon(brillouin_zone_vertices,\n",
    "                              fc='blue', alpha=0.2, ec='blue', linewidth=2.0)\n",
    "plt.gca().add_patch(brillouin_zone)\n",
    "\n",
    "# Show plot\n",
    "plt.axis('square')\n",
    "whitespace_factor = 0.2\n",
    "plt.xlim([-(1. + whitespace_factor) * b1[0], (1. + whitespace_factor) * b1[0]])\n",
    "plt.ylim([-(1. + whitespace_factor) * b2[1], (1. + whitespace_factor) * b2[1]])\n",
    "plt.show()"
   ],
   "metadata": {
    "collapsed": false,
    "pycharm": {
     "name": "#%%\n"
    }
   }
  }
 ],
 "metadata": {
  "kernelspec": {
   "display_name": "Python 3",
   "language": "python",
   "name": "python3"
  },
  "language_info": {
   "codemirror_mode": {
    "name": "ipython",
    "version": 2
   },
   "file_extension": ".py",
   "mimetype": "text/x-python",
   "name": "python",
   "nbconvert_exporter": "python",
   "pygments_lexer": "ipython2",
   "version": "2.7.6"
  }
 },
 "nbformat": 4,
 "nbformat_minor": 0
}
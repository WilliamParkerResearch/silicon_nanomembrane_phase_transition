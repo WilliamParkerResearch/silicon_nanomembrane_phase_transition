{
 "cells": [
  {
   "cell_type": "markdown",
   "metadata": {
    "collapsed": true,
    "pycharm": {
     "name": "#%% md\n"
    }
   },
   "source": [
    "## Murnaghan Equation of State Model\n",
    "\n",
    "For a cell under isotropic strain, the Murnaghan energy-volume equation of state is:\n",
    "\n",
    "$ E(V) = E_0 + K_0 V_0 \\left(\\frac{1}{K_0^{\\prime} (K_0^{\\prime} - 1)} \\left(\\frac{V}{V_0}\\right)^{-(K_0^{\\prime} - 1)} + \\frac{1}{K_0^{\\prime}} \\left( \\frac{V}{V_0} \\right) - \\frac{1}{K_0^{\\prime} -1} \\right)$\n",
    "\n",
    "with parameters: $E_0, V_0, K_0, K_0^{\\prime}$.\n",
    "\n",
    "For a simple tetragonal cell with $\\tilde{a} = ((a, 0, 0), (0, a, 0), (0, 0, c))$ undergoing uniaxial or biaxial strain,\n",
    "$V = a^2 c$, and the Murnaghan energy-lattice parameter equation of state becomes:\n",
    "$\\rightarrow E(a, c) = E_0 + K_0 a_0^2 c_0 \\left(\\frac{1}{K_0^{\\prime} (K_0^{\\prime} - 1)} \\left(\\frac{a^2 c}{a_0^2 c_0^2}\\right)^{-(K_0^{\\prime} - 1)} + \\frac{1}{K_0^{\\prime}} \\left( \\frac{a^2 c}{a_0^2 c_0} \\right) - \\frac{1}{K_0^{\\prime} -1} \\right)$\n",
    "\n",
    "with parameters: $E_0, a_0, c_0, K_0, K_0^{\\prime}$.\n",
    "\n"
   ]
  }
 ],
 "metadata": {
  "kernelspec": {
   "display_name": "Python 3",
   "language": "python",
   "name": "python3"
  },
  "language_info": {
   "codemirror_mode": {
    "name": "ipython",
    "version": 2
   },
   "file_extension": ".py",
   "mimetype": "text/x-python",
   "name": "python",
   "nbconvert_exporter": "python",
   "pygments_lexer": "ipython2",
   "version": "2.7.6"
  }
 },
 "nbformat": 4,
 "nbformat_minor": 0
}